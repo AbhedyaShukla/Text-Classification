{
 "cells": [
  {
   "cell_type": "code",
   "execution_count": 119,
   "metadata": {},
   "outputs": [],
   "source": [
    "import os\n",
    "import re\n",
    "from nltk.corpus import stopwords\n",
    "from nltk.tokenize import word_tokenize\n",
    "from string import punctuation\n",
    "import operator"
   ]
  },
  {
   "cell_type": "code",
   "execution_count": 120,
   "metadata": {},
   "outputs": [
    {
     "data": {
      "text/plain": [
       "20"
      ]
     },
     "execution_count": 120,
     "metadata": {},
     "output_type": "execute_result"
    }
   ],
   "source": [
    "# creating path\n",
    "path = \"F:/text classification project/20_newsgroups\"\n",
    "class_list = os.listdir(path)\n",
    "len(class_list)"
   ]
  },
  {
   "cell_type": "code",
   "execution_count": 121,
   "metadata": {},
   "outputs": [],
   "source": [
    "stop_words = set(stopwords.words('english'))  # set of stopwords\n",
    "punctuation = list(punctuation) # list of punctuation"
   ]
  },
  {
   "cell_type": "code",
   "execution_count": 122,
   "metadata": {},
   "outputs": [
    {
     "name": "stdout",
     "output_type": "stream",
     "text": [
      "Each word of  alt.atheism  class is added to dictionary\n",
      "Each word of  comp.graphics  class is added to dictionary\n",
      "Each word of  comp.os.ms-windows.misc  class is added to dictionary\n",
      "Each word of  comp.sys.ibm.pc.hardware  class is added to dictionary\n",
      "Each word of  comp.sys.mac.hardware  class is added to dictionary\n",
      "Each word of  comp.windows.x  class is added to dictionary\n",
      "Each word of  misc.forsale  class is added to dictionary\n",
      "Each word of  rec.autos  class is added to dictionary\n",
      "Each word of  rec.motorcycles  class is added to dictionary\n",
      "Each word of  rec.sport.baseball  class is added to dictionary\n",
      "Each word of  rec.sport.hockey  class is added to dictionary\n",
      "Each word of  sci.crypt  class is added to dictionary\n",
      "Each word of  sci.electronics  class is added to dictionary\n",
      "Each word of  sci.med  class is added to dictionary\n",
      "Each word of  sci.space  class is added to dictionary\n",
      "Each word of  soc.religion.christian  class is added to dictionary\n",
      "Each word of  talk.politics.guns  class is added to dictionary\n",
      "Each word of  talk.politics.mideast  class is added to dictionary\n",
      "Each word of  talk.politics.misc  class is added to dictionary\n",
      "Each word of  talk.religion.misc  class is added to dictionary\n",
      "All classes Done\n",
      "96337\n"
     ]
    }
   ],
   "source": [
    "mapping = {}\n",
    "for folder in class_list:\n",
    "    files = os.listdir(path + \"/\" + folder)\n",
    "    for file in files:\n",
    "        f = open(path+\"/\"+folder+'/'+file,'r',encoding=\"ISO-8859-1\")\n",
    "        text = f.read() # here text is string\n",
    "        text = re.compile('\\w+').findall(text) # here white space removed and each word is in list 'text'.\n",
    "        for each_word in text:\n",
    "            if (each_word.lower() not in stop_words) and (each_word not in punctuation) and (len(each_word) >= 4) and (each_word.lower().isalpha()):\n",
    "                mapping[each_word.lower()] = mapping.get(each_word.lower(),0) + 1 # updating each word count value\n",
    "    print(\"Each word of \", folder, \" class is added to dictionary\")\n",
    "print(\"All classes Done\")\n",
    "print(len(mapping))"
   ]
  },
  {
   "cell_type": "code",
   "execution_count": 123,
   "metadata": {},
   "outputs": [],
   "source": [
    "mapp = {key:val for key, val in mapping.items() if val >= 5}"
   ]
  },
  {
   "cell_type": "code",
   "execution_count": 124,
   "metadata": {},
   "outputs": [
    {
     "name": "stdout",
     "output_type": "stream",
     "text": [
      "[('news', 34309), ('cantaloupe', 26048), ('message', 21954), ('subject', 21589), ('lines', 20894), ('date', 20787), ('newsgroups', 20404), ('path', 20369), ('organization', 19840), ('state', 18842), ('would', 15997), ('ohio', 15887), ('writes', 14686), ('article', 13435), ('comp', 13101), ('references', 12981), ('talk', 12308), ('misc', 11892), ('sender', 11040), ('howland', 10981), ('reston', 10946), ('people', 10364), ('like', 10350), ('university', 9958), ('posting', 9793), ('nntp', 9377), ('know', 9173), ('host', 8934), ('think', 8315), ('usenet', 8308), ('zaphod', 8302), ('politics', 7869), ('windows', 7584), ('also', 7561), ('time', 7073), ('rutgers', 7014), ('harvard', 6923), ('near', 6868), ('good', 6308), ('system', 6267), ('crabapple', 6235), ('well', 6193), ('could', 6154), ('xref', 6064), ('even', 5731), ('europa', 5448), ('gtefsd', 5429), ('uunet', 5369), ('world', 5354), ('religion', 5351), ('make', 5191), ('many', 5130), ('christian', 5129), ('much', 5123), ('first', 5108), ('right', 4943), ('rochester', 4851), ('distribution', 4753), ('club', 4617), ('space', 4544), ('mail', 4511), ('andrew', 4458), ('want', 4442), ('gatech', 4413), ('anyone', 4376), ('magnesium', 4363), ('said', 4321), ('udel', 4310), ('reply', 4307), ('utexas', 4283), ('used', 4261), ('culture', 4241), ('need', 4142), ('uiuc', 3978), ('work', 3958), ('nasa', 3931), ('really', 3926), ('please', 3816), ('something', 3815), ('problem', 3764), ('computer', 3758), ('sura', 3709), ('believe', 3699), ('since', 3675), ('graphics', 3620), ('hardware', 3595), ('still', 3578), ('back', 3575), ('netcom', 3502), ('years', 3405), ('going', 3366), ('government', 3357), ('information', 3345), ('help', 3325), ('find', 3307), ('point', 3299), ('take', 3290), ('might', 3222), ('file', 3217), ('better', 3216), ('year', 3200), ('using', 3194), ('question', 3185), ('never', 3157), ('last', 3150), ('things', 3122), ('read', 3071), ('thanks', 3041), ('software', 3041), ('must', 3016), ('david', 2995), ('without', 2960), ('uucp', 2938), ('sure', 2931), ('another', 2899), ('made', 2892), ('number', 2859), ('someone', 2854), ('access', 2850), ('case', 2817), ('forsale', 2805), ('data', 2794), ('look', 2778), ('thing', 2735), ('cwru', 2732), ('long', 2701), ('drive', 2700), ('program', 2690), ('fact', 2675), ('part', 2670), ('available', 2622), ('version', 2616), ('apple', 2606), ('guns', 2600), ('come', 2581), ('science', 2575), ('atheism', 2563), ('john', 2532), ('power', 2529), ('anything', 2528), ('little', 2493), ('columbia', 2477), ('around', 2470), ('however', 2462), ('give', 2405), ('darwin', 2403), ('sport', 2397), ('best', 2386), ('every', 2384), ('public', 2374), ('different', 2369), ('true', 2356), ('seems', 2349), ('probably', 2314), ('group', 2291), ('least', 2283), ('game', 2272), ('life', 2260), ('research', 2249), ('enough', 2237), ('line', 2227), ('actually', 2224), ('course', 2218), ('tell', 2215), ('support', 2196), ('great', 2192), ('real', 2183), ('name', 2150), ('free', 2146), ('washington', 2130), ('high', 2126), ('post', 2114), ('systems', 2112), ('jesus', 2109), ('list', 2100), ('says', 2097), ('either', 2093), ('though', 2092), ('next', 2082), ('bill', 2082), ('nothing', 2063), ('hard', 2057), ('mean', 2056), ('called', 2044), ('second', 2032), ('else', 2019), ('hockey', 2017), ('possible', 2015), ('image', 2008), ('internet', 1996), ('rather', 1984), ('card', 1977), ('call', 1973), ('wrong', 1961), ('pitt', 1957), ('stanford', 1953), ('turkish', 1935), ('reason', 1934), ('network', 1930), ('athos', 1914), ('autos', 1913), ('general', 1889), ('mark', 1888), ('others', 1874), ('person', 1853), ('baseball', 1851), ('jewish', 1848), ('order', 1843), ('based', 1841), ('keep', 1841), ('looking', 1836), ('problems', 1833), ('unix', 1832), ('found', 1830), ('agate', 1827), ('email', 1818), ('maybe', 1817), ('technology', 1815), ('done', 1812), ('able', 1812), ('security', 1807), ('human', 1803), ('files', 1801), ('team', 1794), ('seen', 1792), ('example', 1786), ('center', 1776), ('place', 1775), ('american', 1765), ('ever', 1764), ('three', 1753), ('always', 1752), ('israel', 1751), ('quite', 1747), ('info', 1744), ('purdue', 1742), ('following', 1736), ('control', 1735), ('send', 1733), ('mideast', 1718), ('thought', 1706), ('wrote', 1705), ('heard', 1704), ('evidence', 1675), ('chip', 1669), ('means', 1666), ('michael', 1663), ('electronics', 1663), ('crypt', 1661), ('less', 1658)]\n"
     ]
    }
   ],
   "source": [
    "# Sorting Dictionary by value\n",
    "sorted_dict = sorted(mapp.items(), key=operator.itemgetter(1), reverse=True)\n",
    "print(sorted_dict[:250])"
   ]
  },
  {
   "cell_type": "code",
   "execution_count": 125,
   "metadata": {},
   "outputs": [
    {
     "data": {
      "image/png": "[encoded data removed]",
      "text/plain": [
       "<Figure size 432x288 with 1 Axes>"
      ]
     },
     "metadata": {
      "needs_background": "light"
     },
     "output_type": "display_data"
    }
   ],
   "source": [
    "# plotting word vs its frequency graph\n",
    "import matplotlib.pyplot as plt\n",
    "frequency=[i[1] for i in sorted_dict]\n",
    "plt.plot(frequency)\n",
    "plt.show() # this plot is not clear so will try to plot again with less data points"
   ]
  },
  {
   "cell_type": "code",
   "execution_count": 126,
   "metadata": {},
   "outputs": [
    {
     "data": {
      "image/png": "[encoded data removed]",
      "text/plain": [
       "<Figure size 1440x576 with 1 Axes>"
      ]
     },
     "metadata": {
      "needs_background": "light"
     },
     "output_type": "display_data"
    },
    {
     "data": {
      "text/plain": [
       "10000"
      ]
     },
     "execution_count": 126,
     "metadata": {},
     "output_type": "execute_result"
    }
   ],
   "source": [
    "# plotting with only top 10000 points\n",
    "top_10000_words = sorted_dict[:10000]\n",
    "frequency=[i[1] for i in top_10000_words]\n",
    "top_10000_word = [i[0] for i in top_10000_words]\n",
    "plt.figure(figsize=(20, 8))\n",
    "plt.plot(frequency)\n",
    "plt.grid()\n",
    "plt.show()\n",
    "len(top_10000_word)"
   ]
  },
  {
   "cell_type": "code",
   "execution_count": 127,
   "metadata": {},
   "outputs": [
    {
     "data": {
      "text/html": [
       "<div>\n",
       "<style scoped>\n",
       "    .dataframe tbody tr th:only-of-type {\n",
       "        vertical-align: middle;\n",
       "    }\n",
       "\n",
       "    .dataframe tbody tr th {\n",
       "        vertical-align: top;\n",
       "    }\n",
       "\n",
       "    .dataframe thead th {\n",
       "        text-align: right;\n",
       "    }\n",
       "</style>\n",
       "<table border=\"1\" class=\"dataframe\">\n",
       "  <thead>\n",
       "    <tr style=\"text-align: right;\">\n",
       "      <th></th>\n",
       "      <th>news</th>\n",
       "      <th>cantaloupe</th>\n",
       "      <th>message</th>\n",
       "      <th>subject</th>\n",
       "      <th>lines</th>\n",
       "      <th>date</th>\n",
       "      <th>newsgroups</th>\n",
       "      <th>path</th>\n",
       "      <th>organization</th>\n",
       "      <th>state</th>\n",
       "      <th>...</th>\n",
       "      <th>extras</th>\n",
       "      <th>troubles</th>\n",
       "      <th>hubble</th>\n",
       "      <th>stacks</th>\n",
       "      <th>pavo</th>\n",
       "      <th>utrecht</th>\n",
       "      <th>downtown</th>\n",
       "      <th>ding</th>\n",
       "      <th>inline</th>\n",
       "      <th>CLASSIFICATION</th>\n",
       "    </tr>\n",
       "  </thead>\n",
       "  <tbody>\n",
       "  </tbody>\n",
       "</table>\n",
       "<p>0 rows × 10001 columns</p>\n",
       "</div>"
      ],
      "text/plain": [
       "Empty DataFrame\n",
       "Columns: [news, cantaloupe, message, subject, lines, date, newsgroups, path, organization, state, would, ohio, writes, article, comp, references, talk, misc, sender, howland, reston, people, like, university, posting, nntp, know, host, think, usenet, zaphod, politics, windows, also, time, rutgers, harvard, near, good, system, crabapple, well, could, xref, even, europa, gtefsd, uunet, world, religion, make, many, christian, much, first, right, rochester, distribution, club, space, mail, andrew, want, gatech, anyone, magnesium, said, udel, reply, utexas, used, culture, need, uiuc, work, nasa, really, please, something, problem, computer, sura, believe, since, graphics, hardware, still, back, netcom, years, going, government, information, help, find, point, take, might, file, better, ...]\n",
       "Index: []\n",
       "\n",
       "[0 rows x 10001 columns]"
      ]
     },
     "execution_count": 127,
     "metadata": {},
     "output_type": "execute_result"
    }
   ],
   "source": [
    "import pandas as pd\n",
    "top_10000_word.append('CLASSIFICATION') # appending Y or target col\n",
    "df = pd.DataFrame(columns=top_10000_word)\n",
    "df"
   ]
  },
  {
   "cell_type": "code",
   "execution_count": 128,
   "metadata": {},
   "outputs": [
    {
     "name": "stdout",
     "output_type": "stream",
     "text": [
      "alt.atheism Done 1000\n",
      "comp.graphics Done 2000\n",
      "comp.os.ms-windows.misc Done 3000\n",
      "comp.sys.ibm.pc.hardware Done 4000\n",
      "comp.sys.mac.hardware Done 5000\n",
      "comp.windows.x Done 6000\n",
      "misc.forsale Done 7000\n",
      "rec.autos Done 8000\n",
      "rec.motorcycles Done 9000\n",
      "rec.sport.baseball Done 10000\n",
      "rec.sport.hockey Done 11000\n",
      "sci.crypt Done 12000\n",
      "sci.electronics Done 13000\n",
      "sci.med Done 14000\n",
      "sci.space Done 15000\n",
      "soc.religion.christian Done 15997\n",
      "talk.politics.guns Done 16997\n",
      "talk.politics.mideast Done 17997\n",
      "talk.politics.misc Done 18997\n",
      "talk.religion.misc Done 19997\n"
     ]
    }
   ],
   "source": [
    "import pandas as pd\n",
    "#dirData = []\n",
    "for folder in class_list: # iterating through all folders\n",
    "    files = os.listdir(path + \"/\" + folder)\n",
    "    dirData = [[0]*len(top_10000_word)]\n",
    "    for file in files: # iterating through all files\n",
    "        row_data = [0]*len(top_10000_word)\n",
    "        f = open(path+\"/\"+folder+'/'+file,'r',encoding =\"ISO-8859-1\") #opening that particular file\n",
    "        text = f.read() # here text is string\n",
    "        #text = re.compile('\\w+').findall(text) # here white space removed and each word is in list named 'text'.\n",
    "        for each_word in text.split(): # iterating through each word in text\n",
    "            each_word = each_word.lower()\n",
    "            if (each_word in top_10000_word): # if word is in top 10000 most occured word then increase count\n",
    "                row_data[top_10000_word.index(each_word)] = row_data[top_10000_word.index(each_word)] + 1\n",
    "        row_data[top_10000_word.index('CLASSIFICATION')] = folder\n",
    "        dirData.append(row_data) # adding row data to dirdata\n",
    "    tempDF = pd.DataFrame(dirData[1:], columns=top_10000_word) #converting into dataframe\n",
    "    df = df.append(tempDF, ignore_index=True) #adding to final dataframe\n",
    "    print(folder, \"Done\", len(df))"
   ]
  },
  {
   "cell_type": "code",
   "execution_count": 129,
   "metadata": {},
   "outputs": [],
   "source": [
    "from sklearn import model_selection\n",
    "from sklearn.metrics import classification_report, confusion_matrix\n",
    "from sklearn.naive_bayes import MultinomialNB\n",
    "from sklearn.metrics import precision_recall_fscore_support as score\n",
    "from sklearn.model_selection import train_test_split"
   ]
  },
  {
   "cell_type": "code",
   "execution_count": 130,
   "metadata": {},
   "outputs": [
    {
     "data": {
      "text/html": [
       "<div>\n",
       "<style scoped>\n",
       "    .dataframe tbody tr th:only-of-type {\n",
       "        vertical-align: middle;\n",
       "    }\n",
       "\n",
       "    .dataframe tbody tr th {\n",
       "        vertical-align: top;\n",
       "    }\n",
       "\n",
       "    .dataframe thead th {\n",
       "        text-align: right;\n",
       "    }\n",
       "</style>\n",
       "<table border=\"1\" class=\"dataframe\">\n",
       "  <thead>\n",
       "    <tr style=\"text-align: right;\">\n",
       "      <th></th>\n",
       "      <th>news</th>\n",
       "      <th>cantaloupe</th>\n",
       "      <th>message</th>\n",
       "      <th>subject</th>\n",
       "      <th>lines</th>\n",
       "      <th>date</th>\n",
       "      <th>newsgroups</th>\n",
       "      <th>path</th>\n",
       "      <th>organization</th>\n",
       "      <th>state</th>\n",
       "      <th>...</th>\n",
       "      <th>extras</th>\n",
       "      <th>troubles</th>\n",
       "      <th>hubble</th>\n",
       "      <th>stacks</th>\n",
       "      <th>pavo</th>\n",
       "      <th>utrecht</th>\n",
       "      <th>downtown</th>\n",
       "      <th>ding</th>\n",
       "      <th>inline</th>\n",
       "      <th>TARGET</th>\n",
       "    </tr>\n",
       "  </thead>\n",
       "  <tbody>\n",
       "    <tr>\n",
       "      <th>0</th>\n",
       "      <td>0</td>\n",
       "      <td>0</td>\n",
       "      <td>0</td>\n",
       "      <td>0</td>\n",
       "      <td>1</td>\n",
       "      <td>0</td>\n",
       "      <td>0</td>\n",
       "      <td>0</td>\n",
       "      <td>1</td>\n",
       "      <td>0</td>\n",
       "      <td>...</td>\n",
       "      <td>0</td>\n",
       "      <td>0</td>\n",
       "      <td>0</td>\n",
       "      <td>0</td>\n",
       "      <td>0</td>\n",
       "      <td>0</td>\n",
       "      <td>0</td>\n",
       "      <td>0</td>\n",
       "      <td>0</td>\n",
       "      <td>0</td>\n",
       "    </tr>\n",
       "    <tr>\n",
       "      <th>1</th>\n",
       "      <td>0</td>\n",
       "      <td>0</td>\n",
       "      <td>0</td>\n",
       "      <td>1</td>\n",
       "      <td>0</td>\n",
       "      <td>0</td>\n",
       "      <td>0</td>\n",
       "      <td>0</td>\n",
       "      <td>1</td>\n",
       "      <td>6</td>\n",
       "      <td>...</td>\n",
       "      <td>0</td>\n",
       "      <td>0</td>\n",
       "      <td>0</td>\n",
       "      <td>0</td>\n",
       "      <td>0</td>\n",
       "      <td>0</td>\n",
       "      <td>0</td>\n",
       "      <td>0</td>\n",
       "      <td>0</td>\n",
       "      <td>0</td>\n",
       "    </tr>\n",
       "    <tr>\n",
       "      <th>2</th>\n",
       "      <td>1</td>\n",
       "      <td>0</td>\n",
       "      <td>0</td>\n",
       "      <td>0</td>\n",
       "      <td>0</td>\n",
       "      <td>1</td>\n",
       "      <td>0</td>\n",
       "      <td>0</td>\n",
       "      <td>0</td>\n",
       "      <td>0</td>\n",
       "      <td>...</td>\n",
       "      <td>0</td>\n",
       "      <td>0</td>\n",
       "      <td>0</td>\n",
       "      <td>0</td>\n",
       "      <td>0</td>\n",
       "      <td>0</td>\n",
       "      <td>0</td>\n",
       "      <td>0</td>\n",
       "      <td>0</td>\n",
       "      <td>0</td>\n",
       "    </tr>\n",
       "    <tr>\n",
       "      <th>3</th>\n",
       "      <td>0</td>\n",
       "      <td>0</td>\n",
       "      <td>0</td>\n",
       "      <td>0</td>\n",
       "      <td>0</td>\n",
       "      <td>0</td>\n",
       "      <td>0</td>\n",
       "      <td>0</td>\n",
       "      <td>0</td>\n",
       "      <td>1</td>\n",
       "      <td>...</td>\n",
       "      <td>0</td>\n",
       "      <td>0</td>\n",
       "      <td>0</td>\n",
       "      <td>0</td>\n",
       "      <td>0</td>\n",
       "      <td>0</td>\n",
       "      <td>0</td>\n",
       "      <td>0</td>\n",
       "      <td>0</td>\n",
       "      <td>0</td>\n",
       "    </tr>\n",
       "    <tr>\n",
       "      <th>4</th>\n",
       "      <td>0</td>\n",
       "      <td>0</td>\n",
       "      <td>0</td>\n",
       "      <td>0</td>\n",
       "      <td>0</td>\n",
       "      <td>0</td>\n",
       "      <td>0</td>\n",
       "      <td>0</td>\n",
       "      <td>0</td>\n",
       "      <td>0</td>\n",
       "      <td>...</td>\n",
       "      <td>0</td>\n",
       "      <td>0</td>\n",
       "      <td>0</td>\n",
       "      <td>0</td>\n",
       "      <td>0</td>\n",
       "      <td>0</td>\n",
       "      <td>0</td>\n",
       "      <td>0</td>\n",
       "      <td>0</td>\n",
       "      <td>0</td>\n",
       "    </tr>\n",
       "  </tbody>\n",
       "</table>\n",
       "<p>5 rows × 10001 columns</p>\n",
       "</div>"
      ],
      "text/plain": [
       "  news cantaloupe message subject lines date newsgroups path organization  \\\n",
       "0    0          0       0       0     1    0          0    0            1   \n",
       "1    0          0       0       1     0    0          0    0            1   \n",
       "2    1          0       0       0     0    1          0    0            0   \n",
       "3    0          0       0       0     0    0          0    0            0   \n",
       "4    0          0       0       0     0    0          0    0            0   \n",
       "\n",
       "  state  ... extras troubles hubble stacks pavo utrecht downtown ding inline  \\\n",
       "0     0  ...      0        0      0      0    0       0        0    0      0   \n",
       "1     6  ...      0        0      0      0    0       0        0    0      0   \n",
       "2     0  ...      0        0      0      0    0       0        0    0      0   \n",
       "3     1  ...      0        0      0      0    0       0        0    0      0   \n",
       "4     0  ...      0        0      0      0    0       0        0    0      0   \n",
       "\n",
       "  TARGET  \n",
       "0      0  \n",
       "1      0  \n",
       "2      0  \n",
       "3      0  \n",
       "4      0  \n",
       "\n",
       "[5 rows x 10001 columns]"
      ]
     },
     "execution_count": 130,
     "metadata": {},
     "output_type": "execute_result"
    }
   ],
   "source": [
    "# converting target values to catagorical data\n",
    "df[\"CLASSIFICATION\"] = pd.Categorical(df.CLASSIFICATION)\n",
    "df['TARGET'] = df.CLASSIFICATION.cat.codes\n",
    "df = df.drop('CLASSIFICATION',axis=1)\n",
    "df.head()"
   ]
  },
  {
   "cell_type": "markdown",
   "metadata": {},
   "source": [
    "# first doing with multinomialNB classifier"
   ]
  },
  {
   "cell_type": "code",
   "execution_count": 131,
   "metadata": {},
   "outputs": [
    {
     "name": "stdout",
     "output_type": "stream",
     "text": [
      "              precision    recall  f1-score   support\n",
      "\n",
      "           0       0.68      0.79      0.73       261\n",
      "           1       0.63      0.75      0.68       248\n",
      "           2       0.74      0.77      0.75       253\n",
      "           3       0.68      0.72      0.70       260\n",
      "           4       0.79      0.77      0.78       266\n",
      "           5       0.85      0.77      0.81       265\n",
      "           6       0.84      0.78      0.81       252\n",
      "           7       0.86      0.85      0.85       223\n",
      "           8       0.92      0.89      0.91       293\n",
      "           9       0.94      0.94      0.94       245\n",
      "          10       0.96      0.96      0.96       247\n",
      "          11       0.91      0.92      0.91       248\n",
      "          12       0.78      0.80      0.79       239\n",
      "          13       0.92      0.88      0.90       236\n",
      "          14       0.94      0.92      0.93       238\n",
      "          15       0.83      0.87      0.85       233\n",
      "          16       0.79      0.85      0.82       255\n",
      "          17       0.92      0.88      0.90       258\n",
      "          18       0.69      0.70      0.69       228\n",
      "          19       0.64      0.44      0.53       252\n",
      "\n",
      "   micro avg       0.81      0.81      0.81      5000\n",
      "   macro avg       0.81      0.81      0.81      5000\n",
      "weighted avg       0.81      0.81      0.81      5000\n",
      "\n",
      "[[206   1   0   0   0   1   0   1   2   0   0   1   0   1   1  13   3   2\n",
      "    5  24]\n",
      " [  2 185  16   8   5  15   5   2   0   0   1   5   2   1   0   0   0   0\n",
      "    0   1]\n",
      " [  0  15 195  15   6  11   2   1   0   0   0   1   2   0   0   0   0   0\n",
      "    0   5]\n",
      " [  0   9  22 186  23   4   5   1   0   0   0   0   8   1   0   0   0   0\n",
      "    0   1]\n",
      " [  0   7  12  22 206   0   5   1   0   0   1   0   9   2   0   0   0   0\n",
      "    1   0]\n",
      " [  1  36   9   4   1 204   1   1   2   0   0   1   1   3   0   0   0   0\n",
      "    0   1]\n",
      " [  0   5   3  14   6   0 197   9   2   1   2   1   8   1   1   0   2   0\n",
      "    0   0]\n",
      " [  0   1   1   0   2   0   5 189   4   0   0   1  10   1   1   1   6   0\n",
      "    0   1]\n",
      " [  0   2   0   2   0   1   5  10 262   2   0   0   5   0   1   0   1   0\n",
      "    2   0]\n",
      " [  2   3   0   2   0   0   2   0   1 231   3   0   0   0   0   0   0   0\n",
      "    1   0]\n",
      " [  0   0   0   1   0   0   0   0   2   3 237   0   1   0   0   0   0   1\n",
      "    2   0]\n",
      " [  1   9   1   0   1   1   1   0   0   0   0 227   1   0   0   1   2   0\n",
      "    3   0]\n",
      " [  0   7   3  16   9   1   4   2   1   1   0   1 192   0   1   0   0   1\n",
      "    0   0]\n",
      " [  2   5   0   0   1   0   2   2   5   1   0   0   5 208   2   2   0   0\n",
      "    0   1]\n",
      " [  3   7   0   0   0   2   0   0   1   1   0   1   0   0 220   0   0   0\n",
      "    2   1]\n",
      " [  9   0   2   1   0   0   0   0   0   2   0   0   0   3   1 203   4   2\n",
      "    1   5]\n",
      " [  0   0   0   0   1   0   0   0   1   1   0   6   1   1   1   0 216   2\n",
      "   18   7]\n",
      " [  5   0   0   1   0   0   1   1   0   1   0   0   0   1   0   2   3 228\n",
      "   11   4]\n",
      " [  2   2   0   1   0   0   0   0   2   1   2   5   0   3   5   1  22  12\n",
      "  159  11]\n",
      " [ 68   1   0   0   1   1   0   0   1   0   0   0   1   0   1  23  16   1\n",
      "   26 112]]\n"
     ]
    }
   ],
   "source": [
    "# using all inbulit functions\n",
    "Y = df[\"TARGET\"]\n",
    "X = df[df.columns[:-1]].values\n",
    "X_train,X_test,Y_train,Y_test = model_selection.train_test_split(X,Y,test_size=0.25,random_state=1)\n",
    "\n",
    "clf = MultinomialNB()\n",
    "clf.fit(X_train, Y_train)\n",
    "print(classification_report(Y_test,Y_pred))\n",
    "print(confusion_matrix(Y_test,Y_pred))"
   ]
  },
  {
   "cell_type": "markdown",
   "metadata": {},
   "source": [
    "### getting good precision, recall & f1-score (about 81%)"
   ]
  },
  {
   "cell_type": "markdown",
   "metadata": {},
   "source": [
    "# Creating our own Classifier"
   ]
  },
  {
   "cell_type": "code",
   "execution_count": 132,
   "metadata": {},
   "outputs": [],
   "source": [
    "# fit function\n",
    "def fit(X_train,Y_train):\n",
    "    result = {} # initializinga our main dictionry\n",
    "    result[\"total_data\"] = 0 # count of total words\n",
    "    class_values = set(Y_train) # all different target class\n",
    "    for current_class in class_values: #iterating to each class\n",
    "        result[current_class] = {}\n",
    "        current_class_rows = (Y_train == current_class) # using boolean array to get data of only current class\n",
    "        X_train_current = X_train[current_class_rows]\n",
    "        Y_train_current = Y_train[current_class_rows]\n",
    "        num_features = X_train.shape[1] # finding the total number of features\n",
    "        result[current_class][\"total_count\"] = 0\n",
    "        for j in range(num_features): # traversing through all features\n",
    "            result[current_class][j] = X_train_current[:,j].sum() # finding the number of time the jth word appeared in current_class features\n",
    "            result[current_class][\"total_count\"] += result[current_class][j] # updating the total_count value of that word\n",
    "        result[\"total_data\"] += result[current_class][\"total_count\"] # updating the total number of words\n",
    "    return result"
   ]
  },
  {
   "cell_type": "code",
   "execution_count": 133,
   "metadata": {},
   "outputs": [],
   "source": [
    "# defining probability function\n",
    "def probability(dictionary, x, current_class):\n",
    "    output = np.log(dictionary[current_class][\"total_count\"]) - np.log(dictionary[\"total_data\"])  # using the multinomial Naive Bayes formula to calucate the probality for a particular class\n",
    "    num_features = len(x) # finding the total number of features\n",
    "    for j in range(num_features): # going through each features\n",
    "        xj = x[j] \n",
    "        # using the multinomial Naive Bayes formula to calucate the probality also implementing the Laplace Correction\n",
    "        current_class_with_xj = dictionary[current_class][j] + 1\n",
    "        current_class_total_count = dictionary[current_class][\"total_count\"] + num_features\n",
    "        current_xj_prob = np.log(current_class_with_xj) - np.log(current_class_total_count) # log probablities to avoid the final probablities to approaching zero\n",
    "        output += current_xj_prob #updating output\n",
    "    return output"
   ]
  },
  {
   "cell_type": "code",
   "execution_count": 134,
   "metadata": {},
   "outputs": [],
   "source": [
    "# defining predictSinglePoint function\n",
    "def predictSinglePoint(dictionary,x):\n",
    "    classes = dictionary.keys() # storing the class names\n",
    "    best_p = -1000\n",
    "    best_class = -1\n",
    "    first_run = True\n",
    "    for current_class in classes: # traversing through each classes\n",
    "        if (current_class == \"total_data\"): # not going to use this key for further calculations\n",
    "            continue\n",
    "        p_current_class = probability(dictionary, x, current_class) #getting probability\n",
    "        if (first_run or p_current_class > best_p):\n",
    "            best_p = p_current_class # updating best_class and probablity values based on above condition\n",
    "            best_class = current_class\n",
    "        first_run = False # for first run\n",
    "    return best_class"
   ]
  },
  {
   "cell_type": "code",
   "execution_count": 135,
   "metadata": {},
   "outputs": [],
   "source": [
    "#defining predict function\n",
    "def predict(dictionary, X_test):\n",
    "    y_pred = [] #initialzing pred list\n",
    "    for x in X_test:\n",
    "        x_class = predictSinglePoint(dictionary, x) #getting single point prediction\n",
    "        y_pred.append(x_class) #adding to ypred\n",
    "    return y_pred"
   ]
  },
  {
   "cell_type": "code",
   "execution_count": 136,
   "metadata": {},
   "outputs": [],
   "source": [
    "dictionary = fit(X_train,Y_train) # calling fit function"
   ]
  },
  {
   "cell_type": "code",
   "execution_count": 137,
   "metadata": {},
   "outputs": [],
   "source": [
    "import numpy as np\n",
    "Y_pred = predict(dictionary,X_test) # calling predict function"
   ]
  },
  {
   "cell_type": "code",
   "execution_count": 138,
   "metadata": {},
   "outputs": [
    {
     "name": "stdout",
     "output_type": "stream",
     "text": [
      "              precision    recall  f1-score   support\n",
      "\n",
      "           0       0.69      0.80      0.74       261\n",
      "           1       0.61      0.74      0.67       248\n",
      "           2       0.73      0.70      0.71       253\n",
      "           3       0.68      0.69      0.68       260\n",
      "           4       0.81      0.76      0.79       266\n",
      "           5       0.84      0.76      0.80       265\n",
      "           6       0.85      0.79      0.82       252\n",
      "           7       0.85      0.83      0.84       223\n",
      "           8       0.91      0.90      0.90       293\n",
      "           9       0.95      0.93      0.94       245\n",
      "          10       0.96      0.95      0.95       247\n",
      "          11       0.87      0.91      0.89       248\n",
      "          12       0.76      0.83      0.80       239\n",
      "          13       0.92      0.87      0.89       236\n",
      "          14       0.92      0.93      0.93       238\n",
      "          15       0.82      0.88      0.85       233\n",
      "          16       0.79      0.84      0.81       255\n",
      "          17       0.93      0.86      0.90       258\n",
      "          18       0.64      0.72      0.68       228\n",
      "          19       0.65      0.44      0.53       252\n",
      "\n",
      "   micro avg       0.81      0.81      0.81      5000\n",
      "   macro avg       0.81      0.81      0.81      5000\n",
      "weighted avg       0.81      0.81      0.81      5000\n",
      "\n",
      "[[209   2   0   0   0   1   0   1   2   1   0   1   0   1   1   8   5   1\n",
      "    4  24]\n",
      " [  2 183  14  10   5  13   4   2   0   0   1   6   4   2   0   1   0   0\n",
      "    1   0]\n",
      " [  2  18 177  18   7  16   2   0   0   0   0   4   4   0   0   0   0   0\n",
      "    0   5]\n",
      " [  1   7  21 180  22   4   5   2   0   0   0   0  14   1   1   0   0   0\n",
      "    1   1]\n",
      " [  0   8  12  22 203   0   5   2   0   0   0   1   7   3   1   0   1   0\n",
      "    1   0]\n",
      " [  1  38   8   4   1 201   2   1   1   1   0   2   1   1   0   0   1   0\n",
      "    1   1]\n",
      " [  0   4   2  11   6   0 198   9   3   1   2   1   9   2   1   1   2   0\n",
      "    0   0]\n",
      " [  0   2   1   0   2   1   5 185   6   0   1   1   7   2   2   0   6   0\n",
      "    1   1]\n",
      " [  0   2   0   2   0   0   4   9 263   1   1   0   4   0   3   0   2   0\n",
      "    2   0]\n",
      " [  3   3   0   2   0   0   2   0   2 228   4   0   0   0   0   0   0   0\n",
      "    1   0]\n",
      " [  0   0   0   1   0   0   0   0   1   5 234   0   1   0   0   0   1   1\n",
      "    3   0]\n",
      " [  1  10   2   0   0   1   0   0   0   0   0 226   2   0   0   1   1   0\n",
      "    4   0]\n",
      " [  0   9   2  15   2   0   4   2   1   0   0   4 198   0   1   0   0   1\n",
      "    0   0]\n",
      " [  3   5   1   0   1   0   0   2   6   1   0   0   6 206   2   2   0   0\n",
      "    1   0]\n",
      " [  2   9   0   0   0   0   0   0   1   1   0   0   0   0 222   0   0   0\n",
      "    2   1]\n",
      " [  7   0   2   1   0   0   0   1   0   1   0   2   1   2   1 204   2   2\n",
      "    1   6]\n",
      " [  1   0   0   0   1   0   0   0   1   1   0   7   0   1   0   0 213   1\n",
      "   23   6]\n",
      " [  5   0   0   0   0   0   1   1   0   0   0   0   0   1   0   2   1 223\n",
      "   20   4]\n",
      " [  3   1   1   0   0   0   0   0   1   0   2   5   0   3   5   3  19  10\n",
      "  164  11]\n",
      " [ 64   1   0   0   1   1   0   0   1   0   0   1   1   0   1  26  16   1\n",
      "   26 112]]\n"
     ]
    }
   ],
   "source": [
    "#printing result\n",
    "print(classification_report(Y_test,Y_pred))\n",
    "print(confusion_matrix(Y_test,Y_pred))"
   ]
  },
  {
   "cell_type": "markdown",
   "metadata": {},
   "source": [
    "# Comparison\n",
    "## From my self coded classifier I am getting precision, recall & f1-score as about 81% and from inbult classifier also I am getting the same as 81%"
   ]
  },
  {
   "cell_type": "code",
   "execution_count": 139,
   "metadata": {},
   "outputs": [],
   "source": [
    "# creating dataset csv file\n",
    "df.to_csv('text_Claasification_dataset.csv')"
   ]
  },
  {
   "cell_type": "code",
   "execution_count": null,
   "metadata": {},
   "outputs": [],
   "source": []
  }
 ],
 "metadata": {
  "kernelspec": {
   "display_name": "Python 3",
   "language": "python",
   "name": "python3"
  },
  "language_info": {
   "codemirror_mode": {
    "name": "ipython",
    "version": 3
   },
   "file_extension": ".py",
   "mimetype": "text/x-python",
   "name": "python",
   "nbconvert_exporter": "python",
   "pygments_lexer": "ipython3",
   "version": "3.7.3"
  }
 },
 "nbformat": 4,
 "nbformat_minor": 2
}
